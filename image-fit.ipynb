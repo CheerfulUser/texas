{
 "cells": [
  {
   "cell_type": "code",
   "execution_count": 1,
   "metadata": {},
   "outputs": [],
   "source": [
    "%matplotlib inline"
   ]
  },
  {
   "cell_type": "code",
   "execution_count": 2,
   "metadata": {},
   "outputs": [
    {
     "data": {
      "text/html": [
       "<script type=\"text/javascript\">window.PlotlyConfig = {MathJaxConfig: 'local'};</script><script type=\"text/javascript\">if (window.MathJax) {MathJax.Hub.Config({SVG: {font: \"STIX-Web\"}});}</script><script>requirejs.config({paths: { 'plotly': ['https://cdn.plot.ly/plotly-latest.min']},});if(!window._Plotly) {require(['plotly'],function(plotly) {window._Plotly=plotly;});}</script>"
      ],
      "text/vnd.plotly.v1+html": [
       "<script type=\"text/javascript\">window.PlotlyConfig = {MathJaxConfig: 'local'};</script><script type=\"text/javascript\">if (window.MathJax) {MathJax.Hub.Config({SVG: {font: \"STIX-Web\"}});}</script><script>requirejs.config({paths: { 'plotly': ['https://cdn.plot.ly/plotly-latest.min']},});if(!window._Plotly) {require(['plotly'],function(plotly) {window._Plotly=plotly;});}</script>"
      ]
     },
     "metadata": {},
     "output_type": "display_data"
    },
    {
     "data": {
      "text/html": [
       "<script type=\"text/javascript\">window.PlotlyConfig = {MathJaxConfig: 'local'};</script><script type=\"text/javascript\">if (window.MathJax) {MathJax.Hub.Config({SVG: {font: \"STIX-Web\"}});}</script><script>requirejs.config({paths: { 'plotly': ['https://cdn.plot.ly/plotly-latest.min']},});if(!window._Plotly) {require(['plotly'],function(plotly) {window._Plotly=plotly;});}</script>"
      ],
      "text/vnd.plotly.v1+html": [
       "<script type=\"text/javascript\">window.PlotlyConfig = {MathJaxConfig: 'local'};</script><script type=\"text/javascript\">if (window.MathJax) {MathJax.Hub.Config({SVG: {font: \"STIX-Web\"}});}</script><script>requirejs.config({paths: { 'plotly': ['https://cdn.plot.ly/plotly-latest.min']},});if(!window._Plotly) {require(['plotly'],function(plotly) {window._Plotly=plotly;});}</script>"
      ]
     },
     "metadata": {},
     "output_type": "display_data"
    }
   ],
   "source": [
    "from __future__ import print_function\n",
    "from astropy.table import Table\n",
    "import requests\n",
    "from PIL import Image\n",
    "from io import BytesIO\n",
    "import pylab\n",
    "import astropy\n",
    "import csv\n",
    "import matplotlib.pyplot as plt\n",
    "import numpy as np\n",
    "from astropy import units as u\n",
    "from astropy.modeling.models import Ellipse2D\n",
    "from astropy.coordinates import Angle\n",
    "import matplotlib.patches as mpatches\n",
    "from astropy.io import fits\n",
    "from matplotlib.colors import LogNorm\n",
    "import random\n",
    "from astropy.io import ascii\n",
    "from astropy.io import fits\n",
    "from astropy.visualization import PercentileInterval, AsinhStretch\n",
    "import math\n",
    "import pandas as pd\n",
    "import plotly.plotly as py\n",
    "import plotly.graph_objs as go\n",
    "from plotly.offline import iplot, init_notebook_mode\n",
    "init_notebook_mode(connected=True)\n",
    "import cufflinks as cf\n",
    "cf.go_offline(connected=True)\n",
    "cf.set_config_file(colorscale='plotly', world_readable=True)\n",
    "\n",
    "# Extra options\n",
    "pd.options.display.max_rows = 30\n",
    "pd.options.display.max_columns = 25\n",
    "\n",
    "# Show all code cells outputs\n",
    "from IPython.core.interactiveshell import InteractiveShell\n",
    "InteractiveShell.ast_node_interactivity = 'all'\n",
    "import os\n",
    "from IPython.display import Image, display, HTML\n",
    "\n",
    "import ipywidgets as widgets\n",
    "from ipywidgets import interact, interact_manual\n"
   ]
  },
  {
   "cell_type": "code",
   "execution_count": 5,
   "metadata": {},
   "outputs": [],
   "source": [
    "def getimages(ra,dec,size=240,filters=\"grizy\"):\n",
    "    \n",
    "    \"\"\"Query ps1filenames.py service to get a list of images\n",
    "    \n",
    "    ra, dec = position in degrees\n",
    "    size = image size in pixels (0.25 arcsec/pixel)\n",
    "    filters = string with filters to include\n",
    "    Returns a table with the results\n",
    "    \"\"\"\n",
    "    \n",
    "    service = \"https://ps1images.stsci.edu/cgi-bin/ps1filenames.py\"\n",
    "    url = (\"{service}?ra={ra}&dec={dec}&size={size}&format=fits\"\n",
    "           \"&filters={filters}\").format(**locals())\n",
    "    table = Table.read(url, format='ascii')\n",
    "    return table\n",
    "\n",
    "\n",
    "def geturl(ra, dec, size=240, output_size=None, filters=\"grizy\", format=\"jpg\", color=False):\n",
    "    \n",
    "    \"\"\"Get URL for images in the table\n",
    "    \n",
    "    ra, dec = position in degrees\n",
    "    size = extracted image size in pixels (0.25 arcsec/pixel)\n",
    "    output_size = output (display) image size in pixels (default = size).\n",
    "                  output_size has no effect for fits format images.\n",
    "    filters = string with filters to include\n",
    "    format = data format (options are \"jpg\", \"png\" or \"fits\")\n",
    "    color = if True, creates a color image (only for jpg or png format).\n",
    "            Default is return a list of URLs for single-filter grayscale images.\n",
    "    Returns a string with the URL\n",
    "    \"\"\"\n",
    "    \n",
    "    if color and format == \"fits\":\n",
    "        raise ValueError(\"color images are available only for jpg or png formats\")\n",
    "    if format not in (\"jpg\",\"png\",\"fits\"):\n",
    "        raise ValueError(\"format must be one of jpg, png, fits\")\n",
    "    table = getimages(ra,dec,size=size,filters=filters)\n",
    "    url = (\"https://ps1images.stsci.edu/cgi-bin/fitscut.cgi?\"\n",
    "           \"ra={ra}&dec={dec}&size={size}&format={format}\").format(**locals())\n",
    "    if output_size:\n",
    "        url = url + \"&output_size={}\".format(output_size)\n",
    "    # sort filters from red to blue\n",
    "    flist = [\"yzirg\".find(x) for x in table['filter']]\n",
    "    table = table[np.argsort(flist)]\n",
    "    if color:\n",
    "        if len(table) > 3:\n",
    "            # pick 3 filters\n",
    "            table = table[[0,len(table)//2,len(table)-1]]\n",
    "        for i, param in enumerate([\"red\",\"green\",\"blue\"]):\n",
    "            url = url + \"&{}={}\".format(param,table['filename'][i])\n",
    "    else:\n",
    "        urlbase = url + \"&red=\"\n",
    "        url = []\n",
    "        for filename in table['filename']:\n",
    "            url.append(urlbase+filename)\n",
    "    return url\n",
    "\n",
    "\n",
    "def getcolorim(ra, dec, size=240, output_size=None, filters=\"grizy\", format=\"jpg\"):\n",
    "    \n",
    "    \"\"\"Get color image at a sky position\n",
    "    \n",
    "    ra, dec = position in degrees\n",
    "    size = extracted image size in pixels (0.25 arcsec/pixel)\n",
    "    output_size = output (display) image size in pixels (default = size).\n",
    "                  output_size has no effect for fits format images.\n",
    "    filters = string with filters to include\n",
    "    format = data format (options are \"jpg\", \"png\")\n",
    "    Returns the image\n",
    "    \"\"\"\n",
    "    \n",
    "    if format not in (\"jpg\",\"png\"):\n",
    "        raise ValueError(\"format must be jpg or png\")\n",
    "    url = geturl(ra,dec,size=size,filters=filters,output_size=output_size,format=format,color=True)\n",
    "    r = requests.get(url)\n",
    "    im = Image.open(BytesIO(r.content))\n",
    "    return im\n",
    "\n",
    "\n",
    "def getgrayim(ra, dec, size=240, output_size=None, filter=\"g\", format=\"jpg\"):\n",
    "    \n",
    "    \"\"\"Get grayscale image at a sky position\n",
    "    \n",
    "    ra, dec = position in degrees\n",
    "    size = extracted image size in pixels (0.25 arcsec/pixel)\n",
    "    output_size = output (display) image size in pixels (default = size).\n",
    "                  output_size has no effect for fits format images.\n",
    "    filter = string with filter to extract (one of grizy)\n",
    "    format = data format (options are \"jpg\", \"png\")\n",
    "    Returns the image\n",
    "    \"\"\"\n",
    "    \n",
    "    if format not in (\"jpg\",\"png\"):\n",
    "        raise ValueError(\"format must be jpg or png\")\n",
    "    if filter not in list(\"grizy\"):\n",
    "        raise ValueError(\"filter must be one of grizy\")\n",
    "    url = geturl(ra,dec,size=size,filters=filter,output_size=output_size,format=format)\n",
    "    r = requests.get(url[0])\n",
    "    im = Image.open(BytesIO(r.content))\n",
    "    return im\n",
    "\n"
   ]
  },
  {
   "cell_type": "code",
   "execution_count": 9,
   "metadata": {},
   "outputs": [],
   "source": [
    "data=ascii.read('test.txt')\n",
    "i=1"
   ]
  },
  {
   "cell_type": "code",
   "execution_count": 12,
   "metadata": {},
   "outputs": [
    {
     "data": {
      "application/vnd.jupyter.widget-view+json": {
       "model_id": "16d24817d4224998b6d58b25679d3f93",
       "version_major": 2,
       "version_minor": 0
      },
      "text/plain": [
       "interactive(children=(FloatSlider(value=15.0, description='a', max=30.0), FloatSlider(value=0.5, description='…"
      ]
     },
     "metadata": {},
     "output_type": "display_data"
    }
   ],
   "source": [
    "@interact\n",
    "def plot_comp(a=(0., 100., 0.1), Ab=(0., 1., 0.01), theta=(0,360.,1)):\n",
    "    \n",
    "    #\n",
    "    \n",
    "    ra = data['ra'][i]\n",
    "    dec = data['dec'][i]\n",
    "    size = 900\n",
    "    \n",
    "    #read ps image and transform\n",
    "    fitsurl = geturl(ra, dec, size=size, filters=\"i\", format=\"fits\")\n",
    "    fh = fits.open(fitsurl[0])\n",
    "    fim = fh[0].data\n",
    "    fim[np.isnan(fim)] = 0.\n",
    "    transform = AsinhStretch() + PercentileInterval(99)\n",
    "    bfim = transform(fim)\n",
    "    #smooth function\n",
    "    \n",
    "    fig, ax = plt.subplots(1, 1)\n",
    "    plt.imshow(bfim, cmap='gray')#, norm=LogNorm())\n",
    "    plt.colorbar()\n",
    "    x0, y0 = size/2, size/2  \n",
    "    y, x = np.mgrid[0:2*x0, 0:2*y0]# 4 pixel for 1 arcsec for PS1, here image size is set to be 20\"*20\", depend on your cutout image size\n",
    "    n_radius=2\n",
    "    a, b = 4*n_radius*a,  4*n_radius*a*Ab# 4pix/arcsec * n_radius*a, 4pix/arcsec * n_radius*a*b/a \n",
    "    theta = Angle(theta, 'deg')#rot angle\n",
    "    e2 = mpatches.Ellipse((x0, y0), 2*a, 2*b, theta.degree, edgecolor='red',\n",
    "                          facecolor='none')    \n",
    "    ax.add_patch(e2)\n",
    "    plt.show()\n"
   ]
  },
  {
   "cell_type": "code",
   "execution_count": null,
   "metadata": {},
   "outputs": [],
   "source": []
  }
 ],
 "metadata": {
  "kernelspec": {
   "display_name": "Python 3",
   "language": "python",
   "name": "python3"
  },
  "language_info": {
   "codemirror_mode": {
    "name": "ipython",
    "version": 3
   },
   "file_extension": ".py",
   "mimetype": "text/x-python",
   "name": "python",
   "nbconvert_exporter": "python",
   "pygments_lexer": "ipython3",
   "version": "3.6.8"
  }
 },
 "nbformat": 4,
 "nbformat_minor": 2
}
